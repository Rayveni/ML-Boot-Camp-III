{
 "cells": [
  {
   "cell_type": "code",
   "execution_count": 1,
   "metadata": {
    "collapsed": false
   },
   "outputs": [],
   "source": [
    "import numpy as np\n",
    "import pandas as pd\n",
    "from pandas.tools.plotting import scatter_matrix\n",
    "\n",
    "import xgboost as xgb\n",
    "\n",
    "import matplotlib.pyplot as plt\n",
    "plt.style.use('ggplot')\n",
    "%matplotlib inline\n",
    "\n",
    "pd.options.mode.chained_assignment = None #'warn'"
   ]
  },
  {
   "cell_type": "code",
   "execution_count": 2,
   "metadata": {
    "collapsed": false
   },
   "outputs": [],
   "source": [
    "X_train = pd.read_csv('x_train.csv', sep=';')\n",
    "X_test = pd.read_csv('x_test.csv', sep=';')\n",
    "X = pd.concat((X_train, X_test), axis=0)"
   ]
  },
  {
   "cell_type": "markdown",
   "metadata": {},
   "source": [
    "# Populate last_lvl_completed"
   ]
  },
  {
   "cell_type": "code",
   "execution_count": 3,
   "metadata": {
    "collapsed": true
   },
   "outputs": [],
   "source": [
    "last_lvl_completed_train = pd.DataFrame(data = np.zeros(X_train.shape[0]), columns = ['last_lvl_completed'])\n",
    "last_lvl_completed_test = pd.DataFrame(data = np.zeros(X_test.shape[0]), columns = ['last_lvl_completed'])"
   ]
  },
  {
   "cell_type": "code",
   "execution_count": 4,
   "metadata": {
    "collapsed": false
   },
   "outputs": [],
   "source": [
    "def get_fin_unfin_unknown_idx(data):\n",
    "    diff = (data['maxPlayerLevel'] - data['numberOfAttemptedLevels']).values\n",
    "    not_fin = (diff == -1) | ((diff == 0) & (data['averageNumOfTurnsPerCompletedLevel'] < 0.0000001).values)\n",
    "    fin = (diff == 0) & (data['averageNumOfTurnsPerCompletedLevel'] > 0).values\n",
    "    unknown = ~(fin | not_fin)\n",
    "    return fin, not_fin, unknown"
   ]
  },
  {
   "cell_type": "code",
   "execution_count": 5,
   "metadata": {
    "collapsed": true
   },
   "outputs": [],
   "source": [
    "fin_all, not_fin_all, unknown_all = get_fin_unfin_unknown_idx(X)\n",
    "y = np.zeros(X.shape[0])\n",
    "y[fin_all] = 1\n",
    "\n",
    "y = y[~unknown_all]\n",
    "X_sub_train = X.loc[~unknown_all]\n",
    "X_sub_test = X.loc[unknown_all]"
   ]
  },
  {
   "cell_type": "code",
   "execution_count": 6,
   "metadata": {
    "collapsed": true
   },
   "outputs": [],
   "source": [
    "fit_columns = ['maxPlayerLevel','attemptsOnTheHighestLevel','doReturnOnLowerLevels','fractionOfUsefullBoosters']"
   ]
  },
  {
   "cell_type": "code",
   "execution_count": 8,
   "metadata": {
    "collapsed": false
   },
   "outputs": [],
   "source": [
    "xgb_1_params = {\n",
    "    'colsample_bytree': 0.75,\n",
    "    'gamma': 0.0,\n",
    "    'learning_rate': 0.01,\n",
    "    'max_depth': 5,\n",
    "    'min_child_weight': 2,\n",
    "    'n_estimators': 1121,\n",
    "    'reg_alpha': 0.005,\n",
    "    'reg_lambda': 1.0,\n",
    "    'subsample': 0.8,\n",
    "\n",
    "    'nthread': 4,\n",
    "    'seed': 2707,\n",
    "    'silent': 1\n",
    "}"
   ]
  },
  {
   "cell_type": "code",
   "execution_count": 11,
   "metadata": {
    "collapsed": false
   },
   "outputs": [],
   "source": [
    "model = xgb.XGBClassifier(**xgb_1_params)\n",
    "model.fit(X_sub_train[fit_columns], y)\n",
    "\n",
    "fin, not_fin, unknown = get_fin_unfin_unknown_idx(X_train)\n",
    "last_lvl_completed_train.loc[fin, 'last_lvl_completed'] = 1\n",
    "last_lvl_completed_train.loc[unknown, 'last_lvl_completed'] = model.predict(X_train.loc[unknown, fit_columns])\n",
    "\n",
    "fin, not_fin, unknown = get_fin_unfin_unknown_idx(X_test)\n",
    "last_lvl_completed_test.loc[fin, 'last_lvl_completed'] = 1\n",
    "last_lvl_completed_test.loc[unknown, 'last_lvl_completed'] = model.predict(X_test.loc[unknown, fit_columns])"
   ]
  },
  {
   "cell_type": "markdown",
   "metadata": {},
   "source": [
    "# Try to reconstruct lost data"
   ]
  },
  {
   "cell_type": "code",
   "execution_count": 12,
   "metadata": {
    "collapsed": false
   },
   "outputs": [],
   "source": [
    "X_train_cleaned = X_train.copy()\n",
    "X_test_cleaned = X_test.copy()\n",
    "\n",
    "X_train_cleaned['completed_levels'] = X_train_cleaned['numberOfAttemptedLevels'] - 1 + last_lvl_completed_train['last_lvl_completed']\n",
    "X_test_cleaned['completed_levels'] = X_test_cleaned['numberOfAttemptedLevels'] - 1 + last_lvl_completed_test['last_lvl_completed']\n",
    "\n",
    "X_train_cleaned['start_level'] = X_train_cleaned['maxPlayerLevel'] - X_train_cleaned['completed_levels']\n",
    "X_test_cleaned['start_level'] = X_test_cleaned['maxPlayerLevel'] - X_test_cleaned['completed_levels']\n",
    "\n",
    "X_clean = pd.concat((X_train_cleaned, X_test_cleaned), axis=0)\n",
    "X_clean = X_clean.loc[X_clean['start_level']==0]\n",
    "\n",
    "train_upd_idx = (X_train_cleaned['start_level'] > 0).values\n",
    "test_upd_idx = (X_test_cleaned['start_level'] > 0).values"
   ]
  },
  {
   "cell_type": "code",
   "execution_count": 13,
   "metadata": {
    "collapsed": false
   },
   "outputs": [],
   "source": [
    "columns_to_update = ['totalNumOfAttempts', 'averageNumOfTurnsPerCompletedLevel', \n",
    "                     'numberOfBoostersUsed', 'totalScore', 'totalBonusScore',\n",
    "                     'totalStarsCount', 'numberOfDaysActuallyPlayed']\n",
    "fit_columns = ['maxPlayerLevel','attemptsOnTheHighestLevel','doReturnOnLowerLevels','fractionOfUsefullBoosters']\n",
    "reg_params_1 = { #########################\n",
    "                'colsample_bytree': 0.75,\n",
    "                'gamma': 0.0,\n",
    "                'learning_rate': 0.01,\n",
    "                'max_depth': 4,\n",
    "                'min_child_weight': 4,\n",
    "                'n_estimators': 1138,\n",
    "                'reg_alpha': 125,\n",
    "                'reg_lambda': 0.01,\n",
    "                'subsample': 0.825,\n",
    "                \n",
    "                'nthread': 4,\n",
    "                'seed': 2707,\n",
    "                'silent': 1\n",
    "               }\n",
    "reg_params_2 = { #########################\n",
    "                'colsample_bytree': 0.75,\n",
    "                'gamma': 0.625,\n",
    "                'learning_rate': 0.01,\n",
    "                'max_depth': 5,\n",
    "                'min_child_weight': 6,\n",
    "                'n_estimators': 1692,\n",
    "                'reg_alpha': 0,\n",
    "                'reg_lambda': 7.0,\n",
    "                'subsample': 0.8,\n",
    "                \n",
    "                'nthread': 4,\n",
    "                'seed': 2707,\n",
    "                'silent': 1\n",
    "               }\n",
    "reg_params_3 = { #########################\n",
    "                'colsample_bytree': 0.5,\n",
    "                'gamma': 0.55,\n",
    "                'learning_rate': 0.1,\n",
    "                'max_depth': 5,\n",
    "                'min_child_weight': 1,\n",
    "                'n_estimators': 1301,\n",
    "                'reg_alpha': 12.9,\n",
    "                'reg_lambda': 1,\n",
    "                #'reg_lambda': 0,\n",
    "                'subsample': 0.82,\n",
    "                \n",
    "                'nthread': 4,\n",
    "                'seed': 2707,\n",
    "                'silent': 1\n",
    "}\n",
    "reg_params_4 = { #########################\n",
    "                'colsample_bytree': 0.75,\n",
    "                'gamma': 0.0,\n",
    "                'learning_rate': 0.01,\n",
    "                'max_depth': 5,\n",
    "                'min_child_weight': 2,\n",
    "                'n_estimators': 1017,\n",
    "                'reg_alpha': 484,\n",
    "                'reg_lambda': 1,\n",
    "                'subsample': 0.77,\n",
    "              \n",
    "                'nthread': 4,\n",
    "                'seed': 2707,\n",
    "                'silent': 1\n",
    "             }\n",
    "reg_params_5 = { #########################\n",
    "                'colsample_bytree': 0.75,\n",
    "                'gamma': 0.0,\n",
    "                'learning_rate': 0.01,\n",
    "                'max_depth': 5,\n",
    "                'min_child_weight': 2,\n",
    "                'n_estimators': 659,\n",
    "                'reg_alpha': 0.005,\n",
    "                'reg_lambda': 1,\n",
    "                'subsample': 0.8,\n",
    "               \n",
    "                'nthread': 4,\n",
    "                'seed': 2707,\n",
    "                'silent': 1\n",
    "               }\n",
    "\n",
    "reg_params_dict = {\n",
    "    'totalNumOfAttempts': reg_params_1,\n",
    "    'averageNumOfTurnsPerCompletedLevel' : reg_params_2,\n",
    "    'numberOfBoostersUsed' : reg_params_3,\n",
    "    'totalScore' : reg_params_4,\n",
    "    'totalBonusScore' : reg_params_4,\n",
    "    'totalStarsCount' : reg_params_4,\n",
    "    'numberOfDaysActuallyPlayed' : reg_params_5\n",
    "}"
   ]
  },
  {
   "cell_type": "code",
   "execution_count": 14,
   "metadata": {
    "collapsed": false
   },
   "outputs": [],
   "source": [
    "for col in columns_to_update:\n",
    "    model = xgb.XGBRegressor(**reg_params_dict[col])\n",
    "    model.fit(X_clean[fit_columns], X_clean[col].values.ravel())\n",
    "\n",
    "    for data, upd_idx in [(X_train_cleaned, train_upd_idx), (X_test_cleaned, test_upd_idx)]:\n",
    "        predict_data = data.loc[upd_idx, fit_columns]\n",
    "        predict_data['maxPlayerLevel'] = data.loc[upd_idx, 'start_level']\n",
    "        prediction = model.predict(predict_data)\n",
    "        prediction[prediction < 0] = 0 # fix for bad models....\n",
    "        if col == 'averageNumOfTurnsPerCompletedLevel':\n",
    "            data.loc[upd_idx, col] = (data.loc[upd_idx, col] * data.loc[upd_idx, 'completed_levels']\n",
    "                                            + prediction * data.loc[upd_idx, 'start_level']) \\\n",
    "                                            / data.loc[upd_idx, 'maxPlayerLevel']\n",
    "        else:\n",
    "            data.loc[upd_idx, col] = data.loc[upd_idx, col] + prediction"
   ]
  },
  {
   "cell_type": "code",
   "execution_count": 17,
   "metadata": {
    "collapsed": false
   },
   "outputs": [],
   "source": [
    "X_train_cleaned = X_train_cleaned.drop(fit_columns, axis=1)\n",
    "X_test_cleaned = X_test_cleaned.drop(fit_columns, axis=1)\n",
    "\n",
    "X_train_cleaned = X_train_cleaned.drop('numberOfAttemptedLevels', axis=1)\n",
    "X_test_cleaned = X_test_cleaned.drop('numberOfAttemptedLevels', axis=1)\n",
    "\n",
    "X_train_cleaned.columns = 'upd_' + X_train_cleaned.columns\n",
    "X_test_cleaned.columns = 'upd_' + X_test_cleaned.columns"
   ]
  },
  {
   "cell_type": "code",
   "execution_count": 18,
   "metadata": {
    "collapsed": false
   },
   "outputs": [],
   "source": [
    "\n",
    "X_train = pd.concat((X_train, last_lvl_completed_train, X_train_cleaned), axis=1)\n",
    "X_test = pd.concat((X_test, last_lvl_completed_test, X_test_cleaned), axis=1)\n",
    "X_train.to_csv('restored_x_train.csv', index=False, sep=';')\n",
    "X_test.to_csv('restored_x_test.csv', index=False, sep=';')"
   ]
  }
 ],
 "metadata": {
  "kernelspec": {
   "display_name": "Python 3",
   "language": "python",
   "name": "python3"
  },
  "language_info": {
   "codemirror_mode": {
    "name": "ipython",
    "version": 3
   },
   "file_extension": ".py",
   "mimetype": "text/x-python",
   "name": "python",
   "nbconvert_exporter": "python",
   "pygments_lexer": "ipython3",
   "version": "3.6.0"
  }
 },
 "nbformat": 4,
 "nbformat_minor": 2
}
