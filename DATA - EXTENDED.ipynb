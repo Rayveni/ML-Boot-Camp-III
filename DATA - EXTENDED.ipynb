{
 "cells": [
  {
   "cell_type": "code",
   "execution_count": 1,
   "metadata": {
    "collapsed": false
   },
   "outputs": [],
   "source": [
    "import numpy as np\n",
    "import pandas as pd"
   ]
  },
  {
   "cell_type": "code",
   "execution_count": 2,
   "metadata": {
    "collapsed": false
   },
   "outputs": [],
   "source": [
    "X1 = pd.read_csv('project/data/restored_x_train.csv', sep=';')\n",
    "X2 = pd.read_csv('project/data/restored_x_test.csv', sep=';')"
   ]
  },
  {
   "cell_type": "code",
   "execution_count": 3,
   "metadata": {
    "collapsed": false
   },
   "outputs": [],
   "source": [
    "def preprocess_raw_data(raw_data):\n",
    "    raw_data['f_10'] = (raw_data['numberOfBoostersUsed'] * raw_data['fractionOfUsefullBoosters'])  / (raw_data['maxPlayerLevel'] + 1.0)\n",
    "    raw_data['f_10_inv'] = (raw_data['numberOfBoostersUsed'] * (1- raw_data['fractionOfUsefullBoosters']) )  / (raw_data['maxPlayerLevel'] + 1.0)\n",
    "    raw_data['f_3']  =  raw_data['totalScore']                      / (raw_data['maxPlayerLevel'] + 1.0)\n",
    "    raw_data['f_15'] = raw_data['totalBonusScore'] / raw_data['totalNumOfAttempts']\n",
    "    raw_data['f_16'] = raw_data['totalScore']      / raw_data['totalNumOfAttempts']\n",
    "    raw_data['f_17'] = raw_data['totalStarsCount'] / raw_data['totalNumOfAttempts']\n",
    "    raw_data['f_15_inv'] = raw_data['totalNumOfAttempts'] / (1 + raw_data['totalBonusScore'])\n",
    "    raw_data['f_16_inv'] = raw_data['totalNumOfAttempts'] / (1 + raw_data['totalScore'])\n",
    "    raw_data['f_17_inv'] = raw_data['totalNumOfAttempts'] / (1 + raw_data['totalStarsCount'])\n",
    "    raw_data['f_top_to_all'] = raw_data['attemptsOnTheHighestLevel'] / raw_data['totalNumOfAttempts']\n",
    "    raw_data['f_stars_per_attemp'] = raw_data['totalStarsCount'] / raw_data['totalNumOfAttempts']\n",
    "    raw_data['att_rate'] = raw_data['attemptsOnTheHighestLevel'] * raw_data['maxPlayerLevel']/(raw_data['totalNumOfAttempts'] - raw_data['attemptsOnTheHighestLevel'] + 1.0)\n",
    "    raw_data['f_38'] = raw_data['numberOfBoostersUsed'] * raw_data['totalStarsCount']\n",
    "    raw_data['f_34'] = raw_data['averageNumOfTurnsPerCompletedLevel'] * raw_data['totalStarsCount']\n",
    "    raw_data['f_6_a'] = raw_data['totalNumOfAttempts'] / (raw_data['maxPlayerLevel'] + 1.0)\n",
    "    raw_data['f_old_7']  =  raw_data['numberOfBoostersUsed'] * raw_data['fractionOfUsefullBoosters']\n",
    "    raw_data['f_old_h_11'] = raw_data['totalBonusScore'] / (raw_data['totalStarsCount'] + 1.0)\n",
    "    raw_data['f_old_k_11'] = raw_data['numberOfDaysActuallyPlayed'] / (raw_data['totalStarsCount'] + 1.0)\n",
    "    raw_data['f_old_k_3']  =  raw_data['numberOfDaysActuallyPlayed'] / raw_data['attemptsOnTheHighestLevel']\n",
    "    raw_data['f_old_5'] = raw_data['maxPlayerLevel'] * raw_data['numberOfBoostersUsed']\n",
    "    raw_data['f_old_37'] = raw_data['numberOfBoostersUsed'] * raw_data['totalBonusScore']\n",
    "    raw_data['f_old_40'] = raw_data['totalScore'] * raw_data['totalBonusScore']\n",
    "    raw_data['f__i_4']  =  raw_data['totalStarsCount'] / raw_data['totalNumOfAttempts']\n",
    "    raw_data['f__k_4']  =  raw_data['numberOfDaysActuallyPlayed'] / raw_data['totalNumOfAttempts']\n",
    "    raw_data['f__d_6']  =  raw_data['totalNumOfAttempts'] / (raw_data['numberOfBoostersUsed'] + 1.0)\n",
    "    raw_data['f__9'] = raw_data['maxPlayerLevel'] * raw_data['numberOfDaysActuallyPlayed']\n",
    "    raw_data['f__e_8']  =  raw_data['averageNumOfTurnsPerCompletedLevel'] ** raw_data['fractionOfUsefullBoosters']\n",
    "    raw_data['f__38'] = raw_data['numberOfBoostersUsed'] * raw_data['totalStarsCount']\n",
    "    raw_data['%f_10'] = (raw_data['upd_numberOfBoostersUsed'] * raw_data['fractionOfUsefullBoosters'])  / (raw_data['maxPlayerLevel'] + 1.0)\n",
    "    raw_data['%f_10_inv'] = (raw_data['upd_numberOfBoostersUsed'] * (1- raw_data['fractionOfUsefullBoosters']) )  / (raw_data['maxPlayerLevel'] + 1.0)\n",
    "    raw_data['f_3']  =  raw_data['totalScore'] / (raw_data['maxPlayerLevel'] + 1.0)\n",
    "    raw_data['upd_f_3']  =  raw_data['upd_totalScore'] / (raw_data['maxPlayerLevel'] + 1.0)\n",
    "    raw_data['#f_15'] = raw_data['upd_totalBonusScore'] / raw_data['upd_totalNumOfAttempts']\n",
    "    raw_data['%f_16'] = raw_data['upd_totalScore']      / raw_data['upd_totalNumOfAttempts']\n",
    "    raw_data['%f_17'] = raw_data['upd_totalStarsCount'] / raw_data['upd_totalNumOfAttempts']\n",
    "    raw_data['f_15+'] = raw_data['totalBonusScore'] / (1 + raw_data['upd_totalBonusScore'] )\n",
    "    raw_data['f_16+'] = raw_data['totalScore']      / (1 + raw_data['upd_totalScore']      )\n",
    "    raw_data['f_17+'] = raw_data['totalStarsCount'] / (1 + raw_data['upd_totalStarsCount'] )\n",
    "    raw_data['f+1'] = raw_data['totalNumOfAttempts']  / raw_data['upd_totalNumOfAttempts']\n",
    "    raw_data['f+2'] = raw_data['numberOfDaysActuallyPlayed']  / raw_data['upd_numberOfDaysActuallyPlayed']\n",
    "    raw_data['f+2'] = raw_data['upd_completed_levels']  /  (raw_data['maxPlayerLevel'] + 1.0)\n",
    "    raw_data['%f_15_inv'] = raw_data['upd_totalNumOfAttempts'] / (1 + raw_data['upd_totalBonusScore'])\n",
    "    raw_data['%f_16_inv'] = raw_data['upd_totalNumOfAttempts'] / (1 + raw_data['upd_totalScore'])\n",
    "    raw_data['%f_17_inv'] = raw_data['upd_totalNumOfAttempts'] / (1 + raw_data['upd_totalStarsCount'])\n",
    "    raw_data['%f_top_to_all'] = raw_data['attemptsOnTheHighestLevel'] / raw_data['upd_totalNumOfAttempts']\n",
    "    raw_data['%f_stars_per_attemp'] = raw_data['upd_totalStarsCount'] / raw_data['upd_totalNumOfAttempts']\n",
    "    raw_data['%att_rate'] = raw_data['attemptsOnTheHighestLevel'] * raw_data['maxPlayerLevel']/(raw_data['upd_totalNumOfAttempts'] - raw_data['attemptsOnTheHighestLevel'] + 1.0)\n",
    "    raw_data['%f_38'] = raw_data['upd_numberOfBoostersUsed'] * raw_data['upd_totalStarsCount']\n",
    "    raw_data['%f_34'] = raw_data['upd_averageNumOfTurnsPerCompletedLevel'] * raw_data['upd_totalStarsCount']\n",
    "    raw_data['%f_6_a'] = raw_data['upd_totalNumOfAttempts'] / (raw_data['maxPlayerLevel'] + 1.0)\n",
    "    raw_data['%f_old_7']  =  raw_data['upd_numberOfBoostersUsed'] * raw_data['fractionOfUsefullBoosters']\n",
    "    raw_data['%f_old_h_11'] = raw_data['upd_totalBonusScore'] / (raw_data['upd_totalStarsCount'] + 1.0)\n",
    "    raw_data['%f_old_k_11'] = raw_data['upd_numberOfDaysActuallyPlayed'] / (raw_data['upd_totalStarsCount'] + 1.0)\n",
    "    raw_data['%f_old_k_3']  =  raw_data['upd_numberOfDaysActuallyPlayed'] / raw_data['attemptsOnTheHighestLevel']\n",
    "    raw_data['%f_old_5'] = raw_data['maxPlayerLevel'] * raw_data['upd_numberOfBoostersUsed']\n",
    "    raw_data['%f_old_37'] = raw_data['upd_numberOfBoostersUsed'] * raw_data['upd_totalBonusScore']\n",
    "    raw_data['%f_old_40'] = raw_data['upd_totalScore'] * raw_data['upd_totalBonusScore']\n",
    "    raw_data['%f__i_4']  =  raw_data['upd_totalStarsCount'] / raw_data['upd_totalNumOfAttempts']\n",
    "    raw_data['%f__k_4']  =  raw_data['upd_numberOfDaysActuallyPlayed'] / raw_data['upd_totalNumOfAttempts']\n",
    "    raw_data['%f__d_6']  =  raw_data['upd_totalNumOfAttempts'] / (raw_data['upd_numberOfBoostersUsed'] + 1.0)\n",
    "    raw_data['%f__9'] = raw_data['maxPlayerLevel'] * raw_data['upd_numberOfDaysActuallyPlayed']\n",
    "    raw_data['%f__38'] = raw_data['upd_numberOfBoostersUsed'] * raw_data['upd_totalStarsCount']\n",
    "    \n",
    "    raw_data['clean_start'] = np.zeros(raw_data.shape[0])\n",
    "    raw_data.loc[raw_data['upd_start_level'] > 0,'clean_start'] = 1\n",
    "    \n",
    "    return raw_data"
   ]
  },
  {
   "cell_type": "code",
   "execution_count": 4,
   "metadata": {
    "collapsed": false
   },
   "outputs": [],
   "source": [
    "X1 = preprocess_raw_data(X1)\n",
    "X2 = preprocess_raw_data(X2)"
   ]
  },
  {
   "cell_type": "code",
   "execution_count": 5,
   "metadata": {
    "collapsed": false
   },
   "outputs": [],
   "source": [
    "X1.to_csv('extended_x_train.csv', index=False, sep=';')\n",
    "X2.to_csv('extended_x_test.csv', index=False, sep=';')"
   ]
  }
 ],
 "metadata": {
  "kernelspec": {
   "display_name": "Python 3",
   "language": "python",
   "name": "python3"
  },
  "language_info": {
   "codemirror_mode": {
    "name": "ipython",
    "version": 3
   },
   "file_extension": ".py",
   "mimetype": "text/x-python",
   "name": "python",
   "nbconvert_exporter": "python",
   "pygments_lexer": "ipython3",
   "version": "3.6.0"
  }
 },
 "nbformat": 4,
 "nbformat_minor": 2
}
