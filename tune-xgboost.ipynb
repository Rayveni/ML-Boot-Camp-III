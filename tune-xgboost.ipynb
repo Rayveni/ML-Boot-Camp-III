{
 "cells": [
  {
   "cell_type": "code",
   "execution_count": 40,
   "metadata": {
    "collapsed": false
   },
   "outputs": [],
   "source": [
    "import numpy as np\n",
    "import pandas as pd\n",
    "\n",
    "import xgboost as xgb\n",
    "import lightgbm as lgb\n",
    "\n",
    "from sklearn.model_selection import StratifiedKFold, cross_val_score, train_test_split\n",
    "from sklearn.metrics import log_loss, accuracy_score\n",
    "\n",
    "import matplotlib.pyplot as plt\n",
    "plt.style.use('ggplot')\n",
    "%matplotlib inline\n",
    "\n",
    "from pandas.tools.plotting import scatter_matrix\n",
    " \n",
    "pd.options.mode.chained_assignment = None\n",
    "from sklearn.model_selection import GridSearchCV\n",
    "\n",
    "np.random.seed(42)"
   ]
  },
  {
   "cell_type": "code",
   "execution_count": 41,
   "metadata": {
    "collapsed": false
   },
   "outputs": [],
   "source": [
    "from project import utils\n",
    "X, test_x, Y = utils.load_data('flipped2', columns=['numberOfDaysActuallyPlayed', 'f__k_4', 'totalScore2', 'f_10',\n",
    "       'f_old_k_11', 'numberOfAttemptedLevels', 'f_17', 'f_top_to_all2',\n",
    "       'f__d_6', 'upd_start_level', 'totalBonusScore', 'f_38',\n",
    "       'averageNumOfTurnsPerCompletedLevel', 'f_old_k_3', 'f_3',\n",
    "       'last_lvl_completed', 'totalNumOfAttempts2', 'UsefullBoosters2',\n",
    "       'doReturnOnLowerLevels'])"
   ]
  },
  {
   "cell_type": "code",
   "execution_count": 42,
   "metadata": {
    "collapsed": false
   },
   "outputs": [
    {
     "data": {
      "text/plain": [
       "Index(['numberOfDaysActuallyPlayed', 'f__k_4', 'totalScore2', 'f_10',\n",
       "       'f_old_k_11', 'numberOfAttemptedLevels', 'f_17', 'f_top_to_all2',\n",
       "       'f__d_6', 'upd_start_level', 'totalBonusScore', 'f_38',\n",
       "       'averageNumOfTurnsPerCompletedLevel', 'f_old_k_3', 'f_3',\n",
       "       'last_lvl_completed', 'totalNumOfAttempts2', 'UsefullBoosters2',\n",
       "       'doReturnOnLowerLevels'],\n",
       "      dtype='object')"
      ]
     },
     "execution_count": 42,
     "metadata": {},
     "output_type": "execute_result"
    }
   ],
   "source": [
    "X.columns"
   ]
  },
  {
   "cell_type": "code",
   "execution_count": null,
   "metadata": {
    "collapsed": false
   },
   "outputs": [],
   "source": []
  },
  {
   "cell_type": "code",
   "execution_count": 44,
   "metadata": {
    "collapsed": false
   },
   "outputs": [],
   "source": [
    "kf = StratifiedKFold(n_splits=5, random_state=2707)\n",
    "def modelfit(alg, train_x, train_y, useTrainCV=True, cv_folds=5, early_stopping_rounds=50):\n",
    "    \n",
    "    if useTrainCV:\n",
    "        xgb_param = alg.get_xgb_params()\n",
    "        xgtrain = xgb.DMatrix(train_x.values, label=train_y)\n",
    "        cvresult = xgb.cv(xgb_param, xgtrain, num_boost_round=alg.get_params()['n_estimators'], nfold=cv_folds,\n",
    "            metrics='logloss', early_stopping_rounds=early_stopping_rounds)\n",
    "        alg.set_params(n_estimators=cvresult.shape[0])\n",
    "    print('*', end='')\n",
    "    logloss_scores = cross_val_score(alg, train_x, train_y, cv=kf, scoring='neg_log_loss', fit_params={'eval_metric':'logloss'})\n",
    "    print('*', end='')\n",
    "    print(\"\\nModel Report\")\n",
    "    print(\"Logloss Score (Train):\", -np.mean(logloss_scores))\n",
    "    print(\"N :\", alg.get_params()['n_estimators'])\n",
    "    alg.fit(train_x, train_y, eval_metric='logloss')\n",
    "    feat_imp = pd.Series(alg.booster().get_fscore()).sort_values(ascending=False)\n",
    "    feat_imp.plot(kind='bar', title='Feature Importances')\n",
    "    plt.ylabel('Feature Importance Score')\n",
    "    return alg.get_params()['n_estimators']"
   ]
  },
  {
   "cell_type": "code",
   "execution_count": 45,
   "metadata": {
    "collapsed": false
   },
   "outputs": [
    {
     "name": "stdout",
     "output_type": "stream",
     "text": [
      "**\n",
      "Model Report\n",
      "Logloss Score (Train): 0.380491972292\n",
      "N : 60\n"
     ]
    },
    {
     "data": {
      "image/png": "[encoded data removed]",
      "text/plain": [
       "<matplotlib.figure.Figure at 0x7826a58>"
      ]
     },
     "metadata": {},
     "output_type": "display_data"
    }
   ],
   "source": [
    "xgb1 = xgb.XGBClassifier(\n",
    " learning_rate =0.1,\n",
    " n_estimators=1000,\n",
    " max_depth=5,\n",
    " min_child_weight=1,\n",
    " gamma=0,\n",
    " subsample=0.8,\n",
    " colsample_bytree=0.8,\n",
    " objective= 'binary:logistic',\n",
    " nthread=4,\n",
    " scale_pos_weight=1,\n",
    " seed=2707)\n",
    "best_n_estimators = modelfit(xgb1, X, Y)"
   ]
  },
  {
   "cell_type": "code",
   "execution_count": 46,
   "metadata": {
    "collapsed": false
   },
   "outputs": [
    {
     "name": "stderr",
     "output_type": "stream",
     "text": [
      "C:\\Anaconda3\\envs\\env_name34\\lib\\site-packages\\sklearn\\model_selection\\_search.py:667: DeprecationWarning: The grid_scores_ attribute was deprecated in version 0.18 in favor of the more elaborate cv_results_ attribute. The grid_scores_ attribute will not be available from 0.20\n",
      "  DeprecationWarning)\n"
     ]
    },
    {
     "data": {
      "text/plain": [
       "([mean: -0.38162, std: 0.00887, params: {'max_depth': 3, 'min_child_weight': 1},\n",
       "  mean: -0.38165, std: 0.00896, params: {'max_depth': 3, 'min_child_weight': 3},\n",
       "  mean: -0.38161, std: 0.00880, params: {'max_depth': 3, 'min_child_weight': 5},\n",
       "  mean: -0.38049, std: 0.00909, params: {'max_depth': 5, 'min_child_weight': 1},\n",
       "  mean: -0.38015, std: 0.00930, params: {'max_depth': 5, 'min_child_weight': 3},\n",
       "  mean: -0.38002, std: 0.00947, params: {'max_depth': 5, 'min_child_weight': 5},\n",
       "  mean: -0.38260, std: 0.00960, params: {'max_depth': 7, 'min_child_weight': 1},\n",
       "  mean: -0.38316, std: 0.01000, params: {'max_depth': 7, 'min_child_weight': 3},\n",
       "  mean: -0.38286, std: 0.00994, params: {'max_depth': 7, 'min_child_weight': 5},\n",
       "  mean: -0.38898, std: 0.01124, params: {'max_depth': 9, 'min_child_weight': 1},\n",
       "  mean: -0.38788, std: 0.01087, params: {'max_depth': 9, 'min_child_weight': 3},\n",
       "  mean: -0.38667, std: 0.01014, params: {'max_depth': 9, 'min_child_weight': 5}],\n",
       " {'max_depth': 5, 'min_child_weight': 5},\n",
       " -0.38002389966254962)"
      ]
     },
     "execution_count": 46,
     "metadata": {},
     "output_type": "execute_result"
    }
   ],
   "source": [
    "xgb2 = xgb.XGBClassifier(\n",
    "    learning_rate =0.1,\n",
    "    n_estimators=best_n_estimators,\n",
    "    max_depth=5,\n",
    "    min_child_weight=1,\n",
    "    gamma=0,\n",
    "    subsample=0.8,\n",
    "    colsample_bytree=0.8,\n",
    "    objective= 'binary:logistic',\n",
    "    nthread=4,\n",
    "    scale_pos_weight=1,\n",
    "    seed=2707\n",
    ")\n",
    "\n",
    "param_test1 = {\n",
    " 'max_depth':range(3,10,2),\n",
    " 'min_child_weight':range(1,6,2)\n",
    "}\n",
    "gsearch1 = GridSearchCV(estimator = xgb2, param_grid = param_test1, scoring='neg_log_loss', n_jobs=4, iid=False, cv=kf)\n",
    "\n",
    "gsearch1.fit(X, Y)\n",
    "gsearch1.grid_scores_, gsearch1.best_params_, gsearch1.best_score_"
   ]
  },
  {
   "cell_type": "code",
   "execution_count": 47,
   "metadata": {
    "collapsed": false
   },
   "outputs": [
    {
     "name": "stderr",
     "output_type": "stream",
     "text": [
      "C:\\Anaconda3\\envs\\env_name34\\lib\\site-packages\\sklearn\\model_selection\\_search.py:667: DeprecationWarning: The grid_scores_ attribute was deprecated in version 0.18 in favor of the more elaborate cv_results_ attribute. The grid_scores_ attribute will not be available from 0.20\n",
      "  DeprecationWarning)\n"
     ]
    },
    {
     "data": {
      "text/plain": [
       "([mean: -0.38077, std: 0.00868, params: {'max_depth': 4, 'min_child_weight': 4},\n",
       "  mean: -0.38082, std: 0.00903, params: {'max_depth': 4, 'min_child_weight': 5},\n",
       "  mean: -0.38035, std: 0.00891, params: {'max_depth': 4, 'min_child_weight': 6},\n",
       "  mean: -0.38043, std: 0.00948, params: {'max_depth': 5, 'min_child_weight': 4},\n",
       "  mean: -0.38002, std: 0.00947, params: {'max_depth': 5, 'min_child_weight': 5},\n",
       "  mean: -0.38034, std: 0.00946, params: {'max_depth': 5, 'min_child_weight': 6},\n",
       "  mean: -0.38114, std: 0.00966, params: {'max_depth': 6, 'min_child_weight': 4},\n",
       "  mean: -0.38084, std: 0.00914, params: {'max_depth': 6, 'min_child_weight': 5},\n",
       "  mean: -0.38062, std: 0.00923, params: {'max_depth': 6, 'min_child_weight': 6}],\n",
       " {'max_depth': 5, 'min_child_weight': 5},\n",
       " -0.38002389966254962)"
      ]
     },
     "execution_count": 47,
     "metadata": {},
     "output_type": "execute_result"
    }
   ],
   "source": [
    "param_test1 = {\n",
    " 'max_depth':[4, 5, 6],\n",
    " 'min_child_weight':[4, 5, 6]\n",
    "}\n",
    "gsearch1 = GridSearchCV(estimator = xgb2, param_grid = param_test1, scoring='neg_log_loss', n_jobs=4, iid=False, cv=kf)\n",
    "\n",
    "gsearch1.fit(X, Y)\n",
    "gsearch1.grid_scores_, gsearch1.best_params_, gsearch1.best_score_"
   ]
  },
  {
   "cell_type": "code",
   "execution_count": 48,
   "metadata": {
    "collapsed": false
   },
   "outputs": [],
   "source": [
    "# CHECK THAT NOT EDGE CASES!\n",
    "best_max_depth = gsearch1.best_params_['max_depth']\n",
    "best_min_child_weight = gsearch1.best_params_['min_child_weight']"
   ]
  },
  {
   "cell_type": "code",
   "execution_count": 49,
   "metadata": {
    "collapsed": false
   },
   "outputs": [
    {
     "name": "stdout",
     "output_type": "stream",
     "text": [
      "**\n",
      "Model Report\n",
      "Logloss Score (Train): 0.380023899663\n",
      "N : 60\n"
     ]
    },
    {
     "data": {
      "image/png": "[encoded data removed]",
      "text/plain": [
       "<matplotlib.figure.Figure at 0x7867be0>"
      ]
     },
     "metadata": {},
     "output_type": "display_data"
    }
   ],
   "source": [
    "xgb3 = xgb.XGBClassifier(\n",
    "    learning_rate =0.1,\n",
    "    n_estimators=1000,\n",
    "    max_depth=best_max_depth,\n",
    "    min_child_weight=best_min_child_weight,\n",
    "    gamma=0,\n",
    "    subsample=0.8,\n",
    "    colsample_bytree=0.8,\n",
    "    objective= 'binary:logistic',\n",
    "    nthread=4,\n",
    "    scale_pos_weight=1,\n",
    "    seed=2707\n",
    ")\n",
    "best_n_estimators = modelfit(xgb3, X, Y)"
   ]
  },
  {
   "cell_type": "code",
   "execution_count": 50,
   "metadata": {
    "collapsed": false
   },
   "outputs": [
    {
     "name": "stderr",
     "output_type": "stream",
     "text": [
      "C:\\Anaconda3\\envs\\env_name34\\lib\\site-packages\\sklearn\\model_selection\\_search.py:667: DeprecationWarning: The grid_scores_ attribute was deprecated in version 0.18 in favor of the more elaborate cv_results_ attribute. The grid_scores_ attribute will not be available from 0.20\n",
      "  DeprecationWarning)\n"
     ]
    },
    {
     "data": {
      "text/plain": [
       "([mean: -0.38002, std: 0.00947, params: {'gamma': 0.0},\n",
       "  mean: -0.38022, std: 0.00967, params: {'gamma': 0.025000000000000001},\n",
       "  mean: -0.38037, std: 0.00960, params: {'gamma': 0.050000000000000003},\n",
       "  mean: -0.38014, std: 0.00937, params: {'gamma': 0.075000000000000011},\n",
       "  mean: -0.38006, std: 0.00945, params: {'gamma': 0.10000000000000001},\n",
       "  mean: -0.38026, std: 0.00981, params: {'gamma': 0.125},\n",
       "  mean: -0.38048, std: 0.00989, params: {'gamma': 0.15000000000000002},\n",
       "  mean: -0.38050, std: 0.00976, params: {'gamma': 0.17500000000000002},\n",
       "  mean: -0.38053, std: 0.00952, params: {'gamma': 0.20000000000000001},\n",
       "  mean: -0.38045, std: 0.00955, params: {'gamma': 0.22500000000000001},\n",
       "  mean: -0.38046, std: 0.00955, params: {'gamma': 0.25},\n",
       "  mean: -0.38047, std: 0.00953, params: {'gamma': 0.27500000000000002},\n",
       "  mean: -0.38033, std: 0.00966, params: {'gamma': 0.30000000000000004},\n",
       "  mean: -0.38042, std: 0.00974, params: {'gamma': 0.32500000000000001},\n",
       "  mean: -0.38039, std: 0.00965, params: {'gamma': 0.35000000000000003},\n",
       "  mean: -0.38040, std: 0.00964, params: {'gamma': 0.375},\n",
       "  mean: -0.38052, std: 0.00957, params: {'gamma': 0.40000000000000002},\n",
       "  mean: -0.38035, std: 0.00962, params: {'gamma': 0.42500000000000004},\n",
       "  mean: -0.38053, std: 0.00979, params: {'gamma': 0.45000000000000001},\n",
       "  mean: -0.38045, std: 0.00979, params: {'gamma': 0.47500000000000003},\n",
       "  mean: -0.38064, std: 0.00994, params: {'gamma': 0.5},\n",
       "  mean: -0.38064, std: 0.00986, params: {'gamma': 0.52500000000000002},\n",
       "  mean: -0.38062, std: 0.00984, params: {'gamma': 0.55000000000000004},\n",
       "  mean: -0.38063, std: 0.00989, params: {'gamma': 0.57500000000000007},\n",
       "  mean: -0.38053, std: 0.00998, params: {'gamma': 0.60000000000000009},\n",
       "  mean: -0.38058, std: 0.00991, params: {'gamma': 0.625},\n",
       "  mean: -0.38051, std: 0.00960, params: {'gamma': 0.65000000000000002},\n",
       "  mean: -0.38036, std: 0.00937, params: {'gamma': 0.67500000000000004},\n",
       "  mean: -0.38042, std: 0.00933, params: {'gamma': 0.70000000000000007},\n",
       "  mean: -0.38061, std: 0.00971, params: {'gamma': 0.72500000000000009},\n",
       "  mean: -0.38064, std: 0.00947, params: {'gamma': 0.75},\n",
       "  mean: -0.38052, std: 0.00952, params: {'gamma': 0.77500000000000002},\n",
       "  mean: -0.38055, std: 0.00949, params: {'gamma': 0.80000000000000004},\n",
       "  mean: -0.38055, std: 0.00954, params: {'gamma': 0.82500000000000007},\n",
       "  mean: -0.38049, std: 0.00965, params: {'gamma': 0.85000000000000009},\n",
       "  mean: -0.38046, std: 0.00949, params: {'gamma': 0.875},\n",
       "  mean: -0.38055, std: 0.00952, params: {'gamma': 0.90000000000000002},\n",
       "  mean: -0.38055, std: 0.00936, params: {'gamma': 0.92500000000000004},\n",
       "  mean: -0.38050, std: 0.00939, params: {'gamma': 0.95000000000000007},\n",
       "  mean: -0.38074, std: 0.00968, params: {'gamma': 0.97500000000000009}],\n",
       " {'gamma': 0.0},\n",
       " -0.38002389966254962)"
      ]
     },
     "execution_count": 50,
     "metadata": {},
     "output_type": "execute_result"
    }
   ],
   "source": [
    "param_test3 = {\n",
    " 'gamma':np.arange(0, 1, 0.025)\n",
    "}\n",
    "gsearch3 = GridSearchCV(estimator = xgb3, param_grid = param_test3, scoring='neg_log_loss', n_jobs=4, iid=False, cv=kf)\n",
    "gsearch3.fit(X, Y)\n",
    "gsearch3.grid_scores_, gsearch3.best_params_, gsearch3.best_score_"
   ]
  },
  {
   "cell_type": "code",
   "execution_count": 51,
   "metadata": {
    "collapsed": true
   },
   "outputs": [],
   "source": [
    "best_gamma = gsearch3.best_params_['gamma']"
   ]
  },
  {
   "cell_type": "code",
   "execution_count": 52,
   "metadata": {
    "collapsed": false
   },
   "outputs": [
    {
     "name": "stderr",
     "output_type": "stream",
     "text": [
      "C:\\Anaconda3\\envs\\env_name34\\lib\\site-packages\\sklearn\\model_selection\\_search.py:667: DeprecationWarning: The grid_scores_ attribute was deprecated in version 0.18 in favor of the more elaborate cv_results_ attribute. The grid_scores_ attribute will not be available from 0.20\n",
      "  DeprecationWarning)\n"
     ]
    },
    {
     "data": {
      "text/plain": [
       "([mean: -0.38202, std: 0.00886, params: {'colsample_bytree': 0.5, 'subsample': 0.5},\n",
       "  mean: -0.38191, std: 0.00896, params: {'colsample_bytree': 0.5, 'subsample': 0.59999999999999998},\n",
       "  mean: -0.38112, std: 0.00922, params: {'colsample_bytree': 0.5, 'subsample': 0.69999999999999996},\n",
       "  mean: -0.38104, std: 0.00945, params: {'colsample_bytree': 0.5, 'subsample': 0.79999999999999993},\n",
       "  mean: -0.38091, std: 0.00949, params: {'colsample_bytree': 0.5, 'subsample': 0.89999999999999991},\n",
       "  mean: -0.38173, std: 0.00868, params: {'colsample_bytree': 0.59999999999999998, 'subsample': 0.5},\n",
       "  mean: -0.38108, std: 0.00867, params: {'colsample_bytree': 0.59999999999999998, 'subsample': 0.59999999999999998},\n",
       "  mean: -0.38116, std: 0.00965, params: {'colsample_bytree': 0.59999999999999998, 'subsample': 0.69999999999999996},\n",
       "  mean: -0.38089, std: 0.01007, params: {'colsample_bytree': 0.59999999999999998, 'subsample': 0.79999999999999993},\n",
       "  mean: -0.38057, std: 0.00933, params: {'colsample_bytree': 0.59999999999999998, 'subsample': 0.89999999999999991},\n",
       "  mean: -0.38161, std: 0.00936, params: {'colsample_bytree': 0.69999999999999996, 'subsample': 0.5},\n",
       "  mean: -0.38131, std: 0.00888, params: {'colsample_bytree': 0.69999999999999996, 'subsample': 0.59999999999999998},\n",
       "  mean: -0.38116, std: 0.00939, params: {'colsample_bytree': 0.69999999999999996, 'subsample': 0.69999999999999996},\n",
       "  mean: -0.38073, std: 0.00960, params: {'colsample_bytree': 0.69999999999999996, 'subsample': 0.79999999999999993},\n",
       "  mean: -0.38064, std: 0.00963, params: {'colsample_bytree': 0.69999999999999996, 'subsample': 0.89999999999999991},\n",
       "  mean: -0.38163, std: 0.00863, params: {'colsample_bytree': 0.79999999999999993, 'subsample': 0.5},\n",
       "  mean: -0.38148, std: 0.00966, params: {'colsample_bytree': 0.79999999999999993, 'subsample': 0.59999999999999998},\n",
       "  mean: -0.38078, std: 0.00913, params: {'colsample_bytree': 0.79999999999999993, 'subsample': 0.69999999999999996},\n",
       "  mean: -0.38002, std: 0.00947, params: {'colsample_bytree': 0.79999999999999993, 'subsample': 0.79999999999999993},\n",
       "  mean: -0.38025, std: 0.00945, params: {'colsample_bytree': 0.79999999999999993, 'subsample': 0.89999999999999991},\n",
       "  mean: -0.38161, std: 0.00923, params: {'colsample_bytree': 0.89999999999999991, 'subsample': 0.5},\n",
       "  mean: -0.38136, std: 0.00922, params: {'colsample_bytree': 0.89999999999999991, 'subsample': 0.59999999999999998},\n",
       "  mean: -0.38042, std: 0.00914, params: {'colsample_bytree': 0.89999999999999991, 'subsample': 0.69999999999999996},\n",
       "  mean: -0.38048, std: 0.00971, params: {'colsample_bytree': 0.89999999999999991, 'subsample': 0.79999999999999993},\n",
       "  mean: -0.38045, std: 0.00957, params: {'colsample_bytree': 0.89999999999999991, 'subsample': 0.89999999999999991}],\n",
       " {'colsample_bytree': 0.79999999999999993, 'subsample': 0.79999999999999993},\n",
       " -0.38002389966254962)"
      ]
     },
     "execution_count": 52,
     "metadata": {},
     "output_type": "execute_result"
    }
   ],
   "source": [
    "xgb4 = xgb.XGBClassifier(\n",
    "    learning_rate =0.1,\n",
    "    n_estimators=best_n_estimators,\n",
    "    max_depth=best_max_depth,\n",
    "    min_child_weight=best_min_child_weight,\n",
    "    gamma=best_gamma,\n",
    "    subsample=0.8,\n",
    "    colsample_bytree=0.8,\n",
    "    objective= 'binary:logistic',\n",
    "    nthread=4,\n",
    "    scale_pos_weight=1,\n",
    "    seed=2707\n",
    ")\n",
    "\n",
    "param_test4 = {\n",
    " 'subsample': np.arange(0.5, 1, 0.1),\n",
    " 'colsample_bytree': np.arange(0.5, 1, 0.1),\n",
    "}\n",
    "\n",
    "gsearch4 = GridSearchCV(estimator = xgb4, param_grid = param_test4, scoring='neg_log_loss', n_jobs=4, iid=False, cv=kf)\n",
    "gsearch4.fit(X, Y)\n",
    "gsearch4.grid_scores_, gsearch4.best_params_, gsearch4.best_score_"
   ]
  },
  {
   "cell_type": "code",
   "execution_count": 53,
   "metadata": {
    "collapsed": false
   },
   "outputs": [
    {
     "name": "stderr",
     "output_type": "stream",
     "text": [
      "C:\\Anaconda3\\envs\\env_name34\\lib\\site-packages\\sklearn\\model_selection\\_search.py:667: DeprecationWarning: The grid_scores_ attribute was deprecated in version 0.18 in favor of the more elaborate cv_results_ attribute. The grid_scores_ attribute will not be available from 0.20\n",
      "  DeprecationWarning)\n"
     ]
    },
    {
     "data": {
      "text/plain": [
       "([mean: -0.38080, std: 0.00942, params: {'colsample_bytree': 0.75, 'subsample': 0.745},\n",
       "  mean: -0.38089, std: 0.00943, params: {'colsample_bytree': 0.75, 'subsample': 0.77000000000000002},\n",
       "  mean: -0.38033, std: 0.00929, params: {'colsample_bytree': 0.75, 'subsample': 0.79500000000000004},\n",
       "  mean: -0.38019, std: 0.00913, params: {'colsample_bytree': 0.75, 'subsample': 0.82000000000000006},\n",
       "  mean: -0.38068, std: 0.00939, params: {'colsample_bytree': 0.75, 'subsample': 0.84500000000000008},\n",
       "  mean: -0.38080, std: 0.00942, params: {'colsample_bytree': 0.77500000000000002, 'subsample': 0.745},\n",
       "  mean: -0.38089, std: 0.00943, params: {'colsample_bytree': 0.77500000000000002, 'subsample': 0.77000000000000002},\n",
       "  mean: -0.38033, std: 0.00929, params: {'colsample_bytree': 0.77500000000000002, 'subsample': 0.79500000000000004},\n",
       "  mean: -0.38019, std: 0.00913, params: {'colsample_bytree': 0.77500000000000002, 'subsample': 0.82000000000000006},\n",
       "  mean: -0.38068, std: 0.00939, params: {'colsample_bytree': 0.77500000000000002, 'subsample': 0.84500000000000008},\n",
       "  mean: -0.38060, std: 0.00938, params: {'colsample_bytree': 0.80000000000000004, 'subsample': 0.745},\n",
       "  mean: -0.38075, std: 0.00907, params: {'colsample_bytree': 0.80000000000000004, 'subsample': 0.77000000000000002},\n",
       "  mean: -0.38035, std: 0.00972, params: {'colsample_bytree': 0.80000000000000004, 'subsample': 0.79500000000000004},\n",
       "  mean: -0.38069, std: 0.00924, params: {'colsample_bytree': 0.80000000000000004, 'subsample': 0.82000000000000006},\n",
       "  mean: -0.38031, std: 0.00912, params: {'colsample_bytree': 0.80000000000000004, 'subsample': 0.84500000000000008},\n",
       "  mean: -0.38060, std: 0.00938, params: {'colsample_bytree': 0.82500000000000007, 'subsample': 0.745},\n",
       "  mean: -0.38075, std: 0.00907, params: {'colsample_bytree': 0.82500000000000007, 'subsample': 0.77000000000000002},\n",
       "  mean: -0.38035, std: 0.00972, params: {'colsample_bytree': 0.82500000000000007, 'subsample': 0.79500000000000004},\n",
       "  mean: -0.38069, std: 0.00924, params: {'colsample_bytree': 0.82500000000000007, 'subsample': 0.82000000000000006},\n",
       "  mean: -0.38031, std: 0.00912, params: {'colsample_bytree': 0.82500000000000007, 'subsample': 0.84500000000000008}],\n",
       " {'colsample_bytree': 0.75, 'subsample': 0.82000000000000006},\n",
       " -0.38018503729277875)"
      ]
     },
     "execution_count": 53,
     "metadata": {},
     "output_type": "execute_result"
    }
   ],
   "source": [
    "param_test4 = {\n",
    " 'subsample': np.arange(0.745, 0.85, 0.025),\n",
    " 'colsample_bytree': np.arange(0.75, 0.85, 0.025),\n",
    "}\n",
    "\n",
    "gsearch4 = GridSearchCV(estimator = xgb4, param_grid = param_test4, scoring='neg_log_loss', n_jobs=4, iid=False, cv=kf)\n",
    "gsearch4.fit(X, Y)\n",
    "gsearch4.grid_scores_, gsearch4.best_params_, gsearch4.best_score_"
   ]
  },
  {
   "cell_type": "code",
   "execution_count": 54,
   "metadata": {
    "collapsed": true
   },
   "outputs": [],
   "source": [
    "best_colsample_bytree = gsearch4.best_params_['colsample_bytree']\n",
    "best_subsample = gsearch4.best_params_['subsample']"
   ]
  },
  {
   "cell_type": "code",
   "execution_count": 55,
   "metadata": {
    "collapsed": true
   },
   "outputs": [],
   "source": [
    "xgb_5 = xgb.XGBClassifier(\n",
    "    learning_rate =0.1,\n",
    "    n_estimators=best_n_estimators,\n",
    "    max_depth=best_max_depth,\n",
    "    min_child_weight=best_min_child_weight,\n",
    "    gamma=best_gamma,\n",
    "    subsample=best_subsample,\n",
    "    colsample_bytree=best_colsample_bytree,\n",
    "    \n",
    "    objective= 'binary:logistic',\n",
    "    nthread=4,\n",
    "    scale_pos_weight=1,\n",
    "    seed=2707\n",
    ")"
   ]
  },
  {
   "cell_type": "code",
   "execution_count": 56,
   "metadata": {
    "collapsed": false
   },
   "outputs": [
    {
     "name": "stderr",
     "output_type": "stream",
     "text": [
      "C:\\Anaconda3\\envs\\env_name34\\lib\\site-packages\\sklearn\\model_selection\\_search.py:667: DeprecationWarning: The grid_scores_ attribute was deprecated in version 0.18 in favor of the more elaborate cv_results_ attribute. The grid_scores_ attribute will not be available from 0.20\n",
      "  DeprecationWarning)\n"
     ]
    },
    {
     "data": {
      "text/plain": [
       "([mean: -0.38019, std: 0.00913, params: {'reg_alpha': 1e-05},\n",
       "  mean: -0.38067, std: 0.00917, params: {'reg_alpha': 0.01},\n",
       "  mean: -0.38040, std: 0.00925, params: {'reg_alpha': 0.1},\n",
       "  mean: -0.38048, std: 0.00934, params: {'reg_alpha': 1},\n",
       "  mean: -0.38841, std: 0.00739, params: {'reg_alpha': 100}],\n",
       " {'reg_alpha': 1e-05},\n",
       " -0.38018503575524265)"
      ]
     },
     "execution_count": 56,
     "metadata": {},
     "output_type": "execute_result"
    }
   ],
   "source": [
    "param_test5 = {\n",
    " 'reg_alpha':[1e-5, 1e-2, 0.1, 1, 100]\n",
    "}\n",
    "gsearch5 = GridSearchCV(estimator = xgb_5, param_grid = param_test5, scoring='neg_log_loss', n_jobs=4, iid=False, cv=kf)\n",
    "gsearch5.fit(X, Y)\n",
    "gsearch5.grid_scores_, gsearch5.best_params_, gsearch5.best_score_"
   ]
  },
  {
   "cell_type": "code",
   "execution_count": 57,
   "metadata": {
    "collapsed": false
   },
   "outputs": [
    {
     "name": "stderr",
     "output_type": "stream",
     "text": [
      "C:\\Anaconda3\\envs\\env_name34\\lib\\site-packages\\sklearn\\model_selection\\_search.py:667: DeprecationWarning: The grid_scores_ attribute was deprecated in version 0.18 in favor of the more elaborate cv_results_ attribute. The grid_scores_ attribute will not be available from 0.20\n",
      "  DeprecationWarning)\n"
     ]
    },
    {
     "data": {
      "text/plain": [
       "([mean: -0.38019, std: 0.00913, params: {'reg_alpha': 0.0},\n",
       "  mean: -0.38037, std: 0.00908, params: {'reg_alpha': 0.025000000000000001}],\n",
       " {'reg_alpha': 0.0},\n",
       " -0.38018503729277875)"
      ]
     },
     "execution_count": 57,
     "metadata": {},
     "output_type": "execute_result"
    }
   ],
   "source": [
    "param_test5 = {\n",
    " 'reg_alpha':np.arange(0, 0.05, 0.025),\n",
    "}\n",
    "gsearch5 = GridSearchCV(estimator = xgb_5, param_grid = param_test5, scoring='neg_log_loss', n_jobs=4, iid=False, cv=kf)\n",
    "gsearch5.fit(X, Y)\n",
    "gsearch5.grid_scores_, gsearch5.best_params_, gsearch5.best_score_"
   ]
  },
  {
   "cell_type": "code",
   "execution_count": null,
   "metadata": {
    "collapsed": true
   },
   "outputs": [],
   "source": []
  },
  {
   "cell_type": "code",
   "execution_count": null,
   "metadata": {
    "collapsed": true
   },
   "outputs": [],
   "source": []
  },
  {
   "cell_type": "code",
   "execution_count": 58,
   "metadata": {
    "collapsed": true
   },
   "outputs": [],
   "source": [
    "best_reg_alpha = gsearch5.best_params_['reg_alpha']"
   ]
  },
  {
   "cell_type": "code",
   "execution_count": 59,
   "metadata": {
    "collapsed": true
   },
   "outputs": [],
   "source": [
    "xgb_6 = xgb.XGBClassifier(\n",
    "    learning_rate =0.1,\n",
    "    n_estimators=best_n_estimators,\n",
    "    max_depth=best_max_depth,\n",
    "    min_child_weight=best_min_child_weight,\n",
    "    gamma=best_gamma,\n",
    "    subsample=best_subsample,\n",
    "    colsample_bytree=best_colsample_bytree,\n",
    "    reg_alpha = best_reg_alpha,\n",
    "    \n",
    "    objective= 'binary:logistic',\n",
    "    nthread=4,\n",
    "    scale_pos_weight=1,\n",
    "    seed=2707\n",
    ")"
   ]
  },
  {
   "cell_type": "code",
   "execution_count": 60,
   "metadata": {
    "collapsed": false
   },
   "outputs": [
    {
     "name": "stderr",
     "output_type": "stream",
     "text": [
      "C:\\Anaconda3\\envs\\env_name34\\lib\\site-packages\\sklearn\\model_selection\\_search.py:667: DeprecationWarning: The grid_scores_ attribute was deprecated in version 0.18 in favor of the more elaborate cv_results_ attribute. The grid_scores_ attribute will not be available from 0.20\n",
      "  DeprecationWarning)\n"
     ]
    },
    {
     "data": {
      "text/plain": [
       "([mean: -0.38074, std: 0.00958, params: {'reg_lambda': 1e-05},\n",
       "  mean: -0.38077, std: 0.00940, params: {'reg_lambda': 0.01},\n",
       "  mean: -0.38056, std: 0.00909, params: {'reg_lambda': 0.1},\n",
       "  mean: -0.38019, std: 0.00913, params: {'reg_lambda': 1},\n",
       "  mean: -0.38067, std: 0.00909, params: {'reg_lambda': 2},\n",
       "  mean: -0.38077, std: 0.00933, params: {'reg_lambda': 3},\n",
       "  mean: -0.38080, std: 0.00917, params: {'reg_lambda': 5},\n",
       "  mean: -0.38062, std: 0.00912, params: {'reg_lambda': 10},\n",
       "  mean: -0.38237, std: 0.00843, params: {'reg_lambda': 100}],\n",
       " {'reg_lambda': 1},\n",
       " -0.38018503729277875)"
      ]
     },
     "execution_count": 60,
     "metadata": {},
     "output_type": "execute_result"
    }
   ],
   "source": [
    "param_test6 = {\n",
    " 'reg_lambda':[1e-5, 1e-2, 0.1, 1, 2, 3, 5, 10, 100]\n",
    "}\n",
    "gsearch6 = GridSearchCV(estimator = xgb_6, param_grid = param_test6, scoring='neg_log_loss', n_jobs=4, iid=False, cv=kf)\n",
    "gsearch6.fit(X, Y)\n",
    "gsearch6.grid_scores_, gsearch6.best_params_, gsearch6.best_score_"
   ]
  },
  {
   "cell_type": "code",
   "execution_count": 61,
   "metadata": {
    "collapsed": false
   },
   "outputs": [
    {
     "name": "stderr",
     "output_type": "stream",
     "text": [
      "C:\\Anaconda3\\envs\\env_name34\\lib\\site-packages\\sklearn\\model_selection\\_search.py:667: DeprecationWarning: The grid_scores_ attribute was deprecated in version 0.18 in favor of the more elaborate cv_results_ attribute. The grid_scores_ attribute will not be available from 0.20\n",
      "  DeprecationWarning)\n"
     ]
    },
    {
     "data": {
      "text/plain": [
       "([mean: -0.38040, std: 0.00920, params: {'reg_lambda': 0.5},\n",
       "  mean: -0.38064, std: 0.00928, params: {'reg_lambda': 0.59999999999999998},\n",
       "  mean: -0.38077, std: 0.00935, params: {'reg_lambda': 0.69999999999999996},\n",
       "  mean: -0.38060, std: 0.00941, params: {'reg_lambda': 0.79999999999999993},\n",
       "  mean: -0.38039, std: 0.00915, params: {'reg_lambda': 0.89999999999999991},\n",
       "  mean: -0.38019, std: 0.00913, params: {'reg_lambda': 0.99999999999999989},\n",
       "  mean: -0.38069, std: 0.00936, params: {'reg_lambda': 1.0999999999999999},\n",
       "  mean: -0.38033, std: 0.00905, params: {'reg_lambda': 1.1999999999999997},\n",
       "  mean: -0.38046, std: 0.00912, params: {'reg_lambda': 1.2999999999999998},\n",
       "  mean: -0.38083, std: 0.00923, params: {'reg_lambda': 1.3999999999999999}],\n",
       " {'reg_lambda': 0.99999999999999989},\n",
       " -0.38018503729277875)"
      ]
     },
     "execution_count": 61,
     "metadata": {},
     "output_type": "execute_result"
    }
   ],
   "source": [
    "param_test6 = {\n",
    " 'reg_lambda':np.arange(0.5,1.5,0.1)\n",
    "}\n",
    "gsearch6 = GridSearchCV(estimator = xgb_6, param_grid = param_test6, scoring='neg_log_loss', n_jobs=4, iid=False, cv=kf)\n",
    "gsearch6.fit(X, Y)\n",
    "gsearch6.grid_scores_, gsearch6.best_params_, gsearch6.best_score_"
   ]
  },
  {
   "cell_type": "code",
   "execution_count": null,
   "metadata": {
    "collapsed": true
   },
   "outputs": [],
   "source": []
  },
  {
   "cell_type": "code",
   "execution_count": 62,
   "metadata": {
    "collapsed": false
   },
   "outputs": [],
   "source": [
    "best_reg_lambda = gsearch6.best_params_['reg_lambda']"
   ]
  },
  {
   "cell_type": "code",
   "execution_count": 67,
   "metadata": {
    "collapsed": false
   },
   "outputs": [
    {
     "name": "stdout",
     "output_type": "stream",
     "text": [
      "**\n",
      "Model Report\n",
      "Logloss Score (Train): 0.379901531214\n",
      "N : 1421\n"
     ]
    },
    {
     "data": {
      "image/png": "[encoded data removed]",
      "text/plain": [
       "<matplotlib.figure.Figure at 0x78f3550>"
      ]
     },
     "metadata": {},
     "output_type": "display_data"
    }
   ],
   "source": [
    "xgb_fin = xgb.XGBClassifier(\n",
    "    learning_rate =0.005,\n",
    "    n_estimators=2000,\n",
    "    max_depth=best_max_depth,\n",
    "    min_child_weight=best_min_child_weight,\n",
    "    gamma=best_gamma,\n",
    "    subsample=best_subsample,\n",
    "    colsample_bytree=best_colsample_bytree,\n",
    "    reg_alpha = best_reg_alpha,\n",
    "    reg_lambda = best_reg_lambda,\n",
    "    \n",
    "    objective= 'binary:logistic',\n",
    "    nthread=4,\n",
    "    scale_pos_weight=1,\n",
    "    seed=2707\n",
    ")\n",
    "best_n_estimators = modelfit(xgb_fin, X, Y)"
   ]
  },
  {
   "cell_type": "code",
   "execution_count": 64,
   "metadata": {
    "collapsed": false
   },
   "outputs": [
    {
     "name": "stdout",
     "output_type": "stream",
     "text": [
      "**\n",
      "Model Report\n",
      "Logloss Score (Train): 0.37987607905\n",
      "N : 725\n"
     ]
    },
    {
     "data": {
      "image/png": "[encoded data removed]",
      "text/plain": [
       "<matplotlib.figure.Figure at 0x795b240>"
      ]
     },
     "metadata": {},
     "output_type": "display_data"
    }
   ],
   "source": [
    "xgb_fin = xgb.XGBClassifier(\n",
    "    learning_rate =0.01,\n",
    "    n_estimators=2000,\n",
    "    max_depth=best_max_depth,\n",
    "    min_child_weight=best_min_child_weight,\n",
    "    gamma=best_gamma,\n",
    "    subsample=best_subsample,\n",
    "    colsample_bytree=best_colsample_bytree,\n",
    "    reg_alpha = best_reg_alpha,\n",
    "    reg_lambda = best_reg_lambda,\n",
    "    \n",
    "    objective= 'binary:logistic',\n",
    "    nthread=4,\n",
    "    scale_pos_weight=1,\n",
    "    seed=2707\n",
    ")\n",
    "best_n_estimators = modelfit(xgb_fin, X, Y)"
   ]
  },
  {
   "cell_type": "code",
   "execution_count": 65,
   "metadata": {
    "collapsed": false
   },
   "outputs": [
    {
     "data": {
      "text/plain": [
       "{'base_score': 0.5,\n",
       " 'colsample_bylevel': 1,\n",
       " 'colsample_bytree': 0.75,\n",
       " 'gamma': 0.0,\n",
       " 'learning_rate': 0.01,\n",
       " 'max_delta_step': 0,\n",
       " 'max_depth': 5,\n",
       " 'min_child_weight': 5,\n",
       " 'missing': None,\n",
       " 'n_estimators': 725,\n",
       " 'nthread': 4,\n",
       " 'objective': 'binary:logistic',\n",
       " 'reg_alpha': 0.0,\n",
       " 'reg_lambda': 0.99999999999999989,\n",
       " 'scale_pos_weight': 1,\n",
       " 'seed': 2707,\n",
       " 'silent': True,\n",
       " 'subsample': 0.82000000000000006}"
      ]
     },
     "execution_count": 65,
     "metadata": {},
     "output_type": "execute_result"
    }
   ],
   "source": [
    "xgb_fin.get_params()"
   ]
  },
  {
   "cell_type": "code",
   "execution_count": null,
   "metadata": {
    "collapsed": true
   },
   "outputs": [],
   "source": []
  }
 ],
 "metadata": {
  "kernelspec": {
   "display_name": "Python 3",
   "language": "python",
   "name": "python3"
  },
  "language_info": {
   "codemirror_mode": {
    "name": "ipython",
    "version": 3
   },
   "file_extension": ".py",
   "mimetype": "text/x-python",
   "name": "python",
   "nbconvert_exporter": "python",
   "pygments_lexer": "ipython3",
   "version": "3.4.5"
  }
 },
 "nbformat": 4,
 "nbformat_minor": 2
}
