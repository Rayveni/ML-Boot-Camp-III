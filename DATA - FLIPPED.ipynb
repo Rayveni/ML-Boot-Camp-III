{
 "cells": [
  {
   "cell_type": "code",
   "execution_count": 1,
   "metadata": {
    "collapsed": true
   },
   "outputs": [],
   "source": [
    "import numpy as np\n",
    "import pandas as pd\n",
    "\n",
    "import xgboost as xgb\n",
    "import lightgbm as lgb\n",
    "\n",
    "import matplotlib.pyplot as plt\n",
    "plt.style.use('ggplot')\n",
    "%matplotlib inline"
   ]
  },
  {
   "cell_type": "code",
   "execution_count": 2,
   "metadata": {
    "collapsed": true
   },
   "outputs": [],
   "source": [
    "saved_columns = [\n",
    "    'maxPlayerLevel','attemptsOnTheHighestLevel','doReturnOnLowerLevels','fractionOfUsefullBoosters', 'upd_start_level',\n",
    "    'last_lvl_completed'    \n",
    "]\n",
    "flip_columns = [\n",
    "       'totalNumOfAttempts',\n",
    "       'numberOfAttemptedLevels',\n",
    "       'averageNumOfTurnsPerCompletedLevel',\n",
    "       'numberOfBoostersUsed',\n",
    "       'totalScore', \n",
    "       'totalBonusScore',\n",
    "       'totalStarsCount',\n",
    "       'numberOfDaysActuallyPlayed',\n",
    "        'f_old_7',\n",
    "        'f_old_5',\n",
    "        'f_38',\n",
    "        'f_old_37',\n",
    "        'f_old_k_3',\n",
    "        'f_old_40',\n",
    "        'f_34',\n",
    "        'f_10',\n",
    "        'f__9',\n",
    "        'att_rate',\n",
    "        'f_old_h_11',\n",
    "        'f_old_k_11',\n",
    "        'f_6_a',\n",
    "        'f__d_6',\n",
    "        'f_3',\n",
    "    \n",
    "    'f_15_inv', \n",
    "    'f_17_inv',\n",
    "    'f_16',\n",
    "    'f_15',\n",
    "    'f_17',\n",
    "    'f__k_4',\n",
    "    'f_16_inv',\n",
    "    'f_top_to_all', 'f_stars_per_attemp', 'f__i_4'\n",
    "]"
   ]
  },
  {
   "cell_type": "code",
   "execution_count": 3,
   "metadata": {
    "collapsed": true
   },
   "outputs": [],
   "source": [
    "def save_flipped(name, test=False, log=True):\n",
    "    pd.options.mode.chained_assignment = None\n",
    "    \n",
    "    X = pd.read_csv('project/data/' + name, sep=';')\n",
    "    \n",
    "    idx = (X['upd_start_level'] > 0).values\n",
    "    X_flipped = np.log(1 + X[saved_columns]) if log else X[saved_columns]\n",
    "    X_flipped[flip_columns] = np.log(1 + X[flip_columns]) if log else X[flip_columns]\n",
    "    for col in flip_columns:\n",
    "        X_flipped.loc[idx, col] *= -1\n",
    "    \n",
    "    save_name = 'flipped_x_test.csv' if test else 'flipped_x_train.csv'\n",
    "    if log:\n",
    "        save_name = 'log_' + save_name\n",
    "    X_flipped.to_csv('project/data/' + save_name, index=False, sep=';')\n",
    "    \n",
    "    pd.options.mode.chained_assignment = 'warn'"
   ]
  },
  {
   "cell_type": "code",
   "execution_count": 4,
   "metadata": {
    "collapsed": false
   },
   "outputs": [],
   "source": [
    "save_flipped('extended_x_train.csv')\n",
    "save_flipped('extended_x_test.csv', test=True)"
   ]
  }
 ],
 "metadata": {
  "kernelspec": {
   "display_name": "Python 3",
   "language": "python",
   "name": "python3"
  },
  "language_info": {
   "codemirror_mode": {
    "name": "ipython",
    "version": 3
   },
   "file_extension": ".py",
   "mimetype": "text/x-python",
   "name": "python",
   "nbconvert_exporter": "python",
   "pygments_lexer": "ipython3",
   "version": "3.6.0"
  }
 },
 "nbformat": 4,
 "nbformat_minor": 2
}
